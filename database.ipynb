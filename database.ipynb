{
  "nbformat": 4,
  "nbformat_minor": 0,
  "metadata": {
    "colab": {
      "name": "Untitled8.ipynb",
      "provenance": [],
      "authorship_tag": "ABX9TyOOl7e6MCDC3t11WqQzLIuy",
      "include_colab_link": true
    },
    "kernelspec": {
      "name": "python3",
      "display_name": "Python 3"
    }
  },
  "cells": [
    {
      "cell_type": "markdown",
      "metadata": {
        "id": "view-in-github",
        "colab_type": "text"
      },
      "source": [
        "<a href=\"https://colab.research.google.com/github/Kaekaefx/Group5_Gather_Predict/blob/master/database.ipynb\" target=\"_parent\"><img src=\"https://colab.research.google.com/assets/colab-badge.svg\" alt=\"Open In Colab\"/></a>"
      ]
    },
    {
      "cell_type": "markdown",
      "metadata": {
        "id": "ek8L-sY3e_z9",
        "colab_type": "text"
      },
      "source": [
        "## Data Analysis with Pandas and Python"
      ]
    },
    {
      "cell_type": "markdown",
      "metadata": {
        "id": "J8pv2gRxfiFe",
        "colab_type": "text"
      },
      "source": [
        "### Import the required libraries"
      ]
    },
    {
      "cell_type": "code",
      "metadata": {
        "id": "dUFERglpe6IB",
        "colab_type": "code",
        "colab": {}
      },
      "source": [
        "import numpy as np\n",
        "import pandas as pd"
      ],
      "execution_count": 0,
      "outputs": []
    },
    {
      "cell_type": "markdown",
      "metadata": {
        "id": "LkxUTMHFgXL5",
        "colab_type": "text"
      },
      "source": [
        "### Data"
      ]
    },
    {
      "cell_type": "markdown",
      "metadata": {
        "id": "8hA4hp5Igg-i",
        "colab_type": "text"
      },
      "source": [
        "The given .bak file was converted to csv files containing the database tables. Read the csv file into **Pandas DataFrames**."
      ]
    },
    {
      "cell_type": "code",
      "metadata": {
        "id": "O4KbSpPUgfd8",
        "colab_type": "code",
        "colab": {}
      },
      "source": [
        "all_stations_df = pd.read_csv(\"https://raw.githubusercontent.com/Kaekaefx/Group5_Gather_Predict/master/database_tables_csv/dbo.all_stations.csv\")\n",
        "station_type_df = pd.read_csv(\"https://raw.githubusercontent.com/Kaekaefx/Group5_Gather_Predict/master/database_tables_csv/dbo.Station_Type.csv\")\n",
        "stations_table_df = pd.read_csv(\"https://raw.githubusercontent.com/Kaekaefx/Group5_Gather_Predict/master/database_tables_csv/dbo.Stations_table.csv\")\n",
        "province_table_df = pd.read_csv(\"https://raw.githubusercontent.com/Kaekaefx/Group5_Gather_Predict/master/database_tables_csv/dbo.Province%20Table%20.csv\")\n",
        "province_electrification_df = pd.read_csv(\"https://raw.githubusercontent.com/Kaekaefx/Group5_Gather_Predict/master/database_tables_csv/dbo.province_electrification.csv\")\n",
        "coal_stations_df = pd.read_csv(\"https://raw.githubusercontent.com/Kaekaefx/Group5_Gather_Predict/master/database_tables_csv/dbo.coal_stations%20-%20Sheet1.csv\")\n",
        "hydroelectric_stations_df = pd.read_csv(\"https://raw.githubusercontent.com/Kaekaefx/Group5_Gather_Predict/master/database_tables_csv/dbo.hydroelectric_stations%20-%20Sheet1.csv\")\n",
        "nuclear_stations_df = pd.read_csv(\"https://raw.githubusercontent.com/Kaekaefx/Group5_Gather_Predict/master/database_tables_csv/dbo.nuclear_stations%20-%20Sheet1.csv\")\n",
        "wind_stations_df = pd.read_csv(\"https://raw.githubusercontent.com/Kaekaefx/Group5_Gather_Predict/master/database_tables_csv/dbo.wind_stations%20-%20Sheet1.csv\")\n",
        "gas_turbine_stations_df = pd.read_csv(\"https://raw.githubusercontent.com/Kaekaefx/Group5_Gather_Predict/master/database_tables_csv/dbo.gas_turbine_stations%20-%20Sheet1.csv\")\n",
        "electricity_generated_df = pd.read_csv(\"https://raw.githubusercontent.com/Kaekaefx/Group5_Gather_Predict/master/database_tables_csv/dbo.electricity_generated.csv\")\n",
        "eskom_df = pd.read_csv(\"https://raw.githubusercontent.com/Kaekaefx/Group5_Gather_Predict/master/database_tables_csv/dbo.eskom.csv\")\n",
        "population_df = pd.read_csv('https://raw.githubusercontent.com/Kaekaefx/Group5_Gather_Predict/master/database_tables_csv/dbo.Population.csv')\n",
        "year_on_year_change_df = pd.read_csv(\"https://raw.githubusercontent.com/Kaekaefx/Group5_Gather_Predict/master/database_tables_csv/dbo.year_on_year_change(jan_2015%20-%20jun_2019)%20-%20Sheet1.csv\")"
      ],
      "execution_count": 0,
      "outputs": []
    },
    {
      "cell_type": "markdown",
      "metadata": {
        "id": "c-JE4XVCiSz-",
        "colab_type": "text"
      },
      "source": [
        "_**Dataframe specifications:**_\n",
        "\n",
        "The dataframes contain Eskom data that was collected from a number of online available resources, such as the city of StatsSA and Eskom.\n",
        "\n",
        "_**Includes:**_\n",
        "\n",
        "\n",
        "\n",
        "*   Stations (Coal, Nuclear, Gas, Wind and Hydroelectric) data.\n",
        "*   Electricity consumption data.\n",
        "*   Province consumption statistics.\n",
        "*   Yearly consumption statistics.\n",
        "*   Number of homes/Infrastructure electrified each year.\n",
        "\n",
        "\n"
      ]
    },
    {
      "cell_type": "code",
      "metadata": {
        "id": "OltBeUOehsBZ",
        "colab_type": "code",
        "colab": {
          "base_uri": "https://localhost:8080/",
          "height": 204
        },
        "outputId": "0e1a6f93-bcd7-4c5e-c547-eac724603a50"
      },
      "source": [
        "all_stations_df.head()"
      ],
      "execution_count": 3,
      "outputs": [
        {
          "output_type": "execute_result",
          "data": {
            "text/html": [
              "<div>\n",
              "<style scoped>\n",
              "    .dataframe tbody tr th:only-of-type {\n",
              "        vertical-align: middle;\n",
              "    }\n",
              "\n",
              "    .dataframe tbody tr th {\n",
              "        vertical-align: top;\n",
              "    }\n",
              "\n",
              "    .dataframe thead th {\n",
              "        text-align: right;\n",
              "    }\n",
              "</style>\n",
              "<table border=\"1\" class=\"dataframe\">\n",
              "  <thead>\n",
              "    <tr style=\"text-align: right;\">\n",
              "      <th></th>\n",
              "      <th>station_name</th>\n",
              "      <th>total_installed_capacity</th>\n",
              "      <th>total_nominal_capacity</th>\n",
              "      <th>location</th>\n",
              "      <th>station_type</th>\n",
              "    </tr>\n",
              "  </thead>\n",
              "  <tbody>\n",
              "    <tr>\n",
              "      <th>0</th>\n",
              "      <td>Arnot</td>\n",
              "      <td>2352</td>\n",
              "      <td>2232</td>\n",
              "      <td>Middelburg</td>\n",
              "      <td>Coal</td>\n",
              "    </tr>\n",
              "    <tr>\n",
              "      <th>1</th>\n",
              "      <td>Camden'</td>\n",
              "      <td>1561</td>\n",
              "      <td>1481</td>\n",
              "      <td>Ermelo</td>\n",
              "      <td>Coal</td>\n",
              "    </tr>\n",
              "    <tr>\n",
              "      <th>2</th>\n",
              "      <td>Duvha'</td>\n",
              "      <td>3000</td>\n",
              "      <td>2875</td>\n",
              "      <td>Emalahleni</td>\n",
              "      <td>Coal</td>\n",
              "    </tr>\n",
              "    <tr>\n",
              "      <th>3</th>\n",
              "      <td>Grootyleil.'</td>\n",
              "      <td>I 180</td>\n",
              "      <td>570</td>\n",
              "      <td>Balfour</td>\n",
              "      <td>Coal</td>\n",
              "    </tr>\n",
              "    <tr>\n",
              "      <th>4</th>\n",
              "      <td>Hendrina'</td>\n",
              "      <td>1728</td>\n",
              "      <td>1293</td>\n",
              "      <td>Middelburg</td>\n",
              "      <td>Coal</td>\n",
              "    </tr>\n",
              "  </tbody>\n",
              "</table>\n",
              "</div>"
            ],
            "text/plain": [
              "   station_name total_installed_capacity  ...    location station_type\n",
              "0         Arnot                     2352  ...  Middelburg         Coal\n",
              "1       Camden'                     1561  ...      Ermelo         Coal\n",
              "2        Duvha'                     3000  ...  Emalahleni         Coal\n",
              "3  Grootyleil.'                    I 180  ...     Balfour         Coal\n",
              "4     Hendrina'                     1728  ...  Middelburg         Coal\n",
              "\n",
              "[5 rows x 5 columns]"
            ]
          },
          "metadata": {
            "tags": []
          },
          "execution_count": 3
        }
      ]
    },
    {
      "cell_type": "code",
      "metadata": {
        "id": "H1TVdN2ZmwMG",
        "colab_type": "code",
        "colab": {
          "base_uri": "https://localhost:8080/",
          "height": 204
        },
        "outputId": "ccea4801-7035-4d2c-d6af-0d75ef2f1d9b"
      },
      "source": [
        "station_type_df.head()"
      ],
      "execution_count": 4,
      "outputs": [
        {
          "output_type": "execute_result",
          "data": {
            "text/html": [
              "<div>\n",
              "<style scoped>\n",
              "    .dataframe tbody tr th:only-of-type {\n",
              "        vertical-align: middle;\n",
              "    }\n",
              "\n",
              "    .dataframe tbody tr th {\n",
              "        vertical-align: top;\n",
              "    }\n",
              "\n",
              "    .dataframe thead th {\n",
              "        text-align: right;\n",
              "    }\n",
              "</style>\n",
              "<table border=\"1\" class=\"dataframe\">\n",
              "  <thead>\n",
              "    <tr style=\"text-align: right;\">\n",
              "      <th></th>\n",
              "      <th>Station_Type_ID</th>\n",
              "      <th>Station_Type</th>\n",
              "    </tr>\n",
              "  </thead>\n",
              "  <tbody>\n",
              "    <tr>\n",
              "      <th>0</th>\n",
              "      <td>1</td>\n",
              "      <td>Coal</td>\n",
              "    </tr>\n",
              "    <tr>\n",
              "      <th>1</th>\n",
              "      <td>2</td>\n",
              "      <td>Gas/liquid fuel turbine stations</td>\n",
              "    </tr>\n",
              "    <tr>\n",
              "      <th>2</th>\n",
              "      <td>3</td>\n",
              "      <td>Nuclear</td>\n",
              "    </tr>\n",
              "    <tr>\n",
              "      <th>3</th>\n",
              "      <td>4</td>\n",
              "      <td>Pumped storage schemes</td>\n",
              "    </tr>\n",
              "    <tr>\n",
              "      <th>4</th>\n",
              "      <td>5</td>\n",
              "      <td>Hydroelectric stations</td>\n",
              "    </tr>\n",
              "  </tbody>\n",
              "</table>\n",
              "</div>"
            ],
            "text/plain": [
              "   Station_Type_ID                      Station_Type\n",
              "0                1                              Coal\n",
              "1                2  Gas/liquid fuel turbine stations\n",
              "2                3                           Nuclear\n",
              "3                4            Pumped storage schemes\n",
              "4                5            Hydroelectric stations"
            ]
          },
          "metadata": {
            "tags": []
          },
          "execution_count": 4
        }
      ]
    },
    {
      "cell_type": "code",
      "metadata": {
        "id": "JHXumi7dm4IZ",
        "colab_type": "code",
        "colab": {
          "base_uri": "https://localhost:8080/",
          "height": 204
        },
        "outputId": "845b85b9-31d1-40d4-9f9d-a9cf2c43965c"
      },
      "source": [
        "stations_table_df.head()"
      ],
      "execution_count": 5,
      "outputs": [
        {
          "output_type": "execute_result",
          "data": {
            "text/html": [
              "<div>\n",
              "<style scoped>\n",
              "    .dataframe tbody tr th:only-of-type {\n",
              "        vertical-align: middle;\n",
              "    }\n",
              "\n",
              "    .dataframe tbody tr th {\n",
              "        vertical-align: top;\n",
              "    }\n",
              "\n",
              "    .dataframe thead th {\n",
              "        text-align: right;\n",
              "    }\n",
              "</style>\n",
              "<table border=\"1\" class=\"dataframe\">\n",
              "  <thead>\n",
              "    <tr style=\"text-align: right;\">\n",
              "      <th></th>\n",
              "      <th>Station_Name</th>\n",
              "      <th>Station_ID</th>\n",
              "    </tr>\n",
              "  </thead>\n",
              "  <tbody>\n",
              "    <tr>\n",
              "      <th>0</th>\n",
              "      <td>Arnot</td>\n",
              "      <td>1</td>\n",
              "    </tr>\n",
              "    <tr>\n",
              "      <th>1</th>\n",
              "      <td>Camden</td>\n",
              "      <td>2</td>\n",
              "    </tr>\n",
              "    <tr>\n",
              "      <th>2</th>\n",
              "      <td>Duvha</td>\n",
              "      <td>3</td>\n",
              "    </tr>\n",
              "    <tr>\n",
              "      <th>3</th>\n",
              "      <td>Grootvlei</td>\n",
              "      <td>4</td>\n",
              "    </tr>\n",
              "    <tr>\n",
              "      <th>4</th>\n",
              "      <td>Hendrina</td>\n",
              "      <td>5</td>\n",
              "    </tr>\n",
              "  </tbody>\n",
              "</table>\n",
              "</div>"
            ],
            "text/plain": [
              "  Station_Name  Station_ID\n",
              "0        Arnot           1\n",
              "1       Camden           2\n",
              "2        Duvha           3\n",
              "3    Grootvlei           4\n",
              "4     Hendrina           5"
            ]
          },
          "metadata": {
            "tags": []
          },
          "execution_count": 5
        }
      ]
    },
    {
      "cell_type": "code",
      "metadata": {
        "id": "DlkaCk50m7BD",
        "colab_type": "code",
        "colab": {
          "base_uri": "https://localhost:8080/",
          "height": 394
        },
        "outputId": "e1f95251-f075-4e96-c051-f241477ff121"
      },
      "source": [
        "coal_stations_df.head()"
      ],
      "execution_count": 6,
      "outputs": [
        {
          "output_type": "execute_result",
          "data": {
            "text/html": [
              "<div>\n",
              "<style scoped>\n",
              "    .dataframe tbody tr th:only-of-type {\n",
              "        vertical-align: middle;\n",
              "    }\n",
              "\n",
              "    .dataframe tbody tr th {\n",
              "        vertical-align: top;\n",
              "    }\n",
              "\n",
              "    .dataframe thead th {\n",
              "        text-align: right;\n",
              "    }\n",
              "</style>\n",
              "<table border=\"1\" class=\"dataframe\">\n",
              "  <thead>\n",
              "    <tr style=\"text-align: right;\">\n",
              "      <th></th>\n",
              "      <th>Station_Name</th>\n",
              "      <th>Province</th>\n",
              "      <th>_Date_commissioned__planned__</th>\n",
              "      <th>_Capacity_MW__planned__</th>\n",
              "      <th>Status</th>\n",
              "      <th>Coordinates</th>\n",
              "      <th>Operator</th>\n",
              "      <th>Planned_decommissioning_dates_14_</th>\n",
              "      <th>Notes</th>\n",
              "    </tr>\n",
              "  </thead>\n",
              "  <tbody>\n",
              "    <tr>\n",
              "      <th>0</th>\n",
              "      <td>Arnot Power Station</td>\n",
              "      <td>Mpumalanga</td>\n",
              "      <td>1971-1975</td>\n",
              "      <td>2,352</td>\n",
              "      <td>Operational</td>\n",
              "      <td>25°56′38″S 29°47′22″E</td>\n",
              "      <td>Eskom</td>\n",
              "      <td>2025-2029</td>\n",
              "      <td>NaN</td>\n",
              "    </tr>\n",
              "    <tr>\n",
              "      <th>1</th>\n",
              "      <td>Camden Power Station</td>\n",
              "      <td>Mpumalanga</td>\n",
              "      <td>1967-1969;\\r\\n2005-2008</td>\n",
              "      <td>1,561</td>\n",
              "      <td>Operational</td>\n",
              "      <td>26°37′13″S 30°05′38″E</td>\n",
              "      <td>Eskom</td>\n",
              "      <td>2020-2023</td>\n",
              "      <td>NaN</td>\n",
              "    </tr>\n",
              "    <tr>\n",
              "      <th>2</th>\n",
              "      <td>Duvha Power Station</td>\n",
              "      <td>Mpumalanga</td>\n",
              "      <td>1980-1984</td>\n",
              "      <td>3,600</td>\n",
              "      <td>Operational</td>\n",
              "      <td>25°57′50″S 29°20′14″E</td>\n",
              "      <td>Eskom</td>\n",
              "      <td>2030-2034</td>\n",
              "      <td>NaN</td>\n",
              "    </tr>\n",
              "    <tr>\n",
              "      <th>3</th>\n",
              "      <td>Grootvlei Power Station</td>\n",
              "      <td>Mpumalanga</td>\n",
              "      <td>1969-1977;\\r\\n2008-2011</td>\n",
              "      <td>1,180</td>\n",
              "      <td>Operational</td>\n",
              "      <td>26°46′S 28°30′E</td>\n",
              "      <td>Eskom</td>\n",
              "      <td>2025-2028</td>\n",
              "      <td>Units 5 and 6 were the first test facilities f...</td>\n",
              "    </tr>\n",
              "    <tr>\n",
              "      <th>4</th>\n",
              "      <td>Hendrina Power Station</td>\n",
              "      <td>Mpumalanga</td>\n",
              "      <td>1970-1976</td>\n",
              "      <td>1,893</td>\n",
              "      <td>Operational</td>\n",
              "      <td>26°01′59″S 29°36′00″E</td>\n",
              "      <td>Eskom</td>\n",
              "      <td>2021-2027</td>\n",
              "      <td>NaN</td>\n",
              "    </tr>\n",
              "  </tbody>\n",
              "</table>\n",
              "</div>"
            ],
            "text/plain": [
              "              Station_Name  ...                                              Notes\n",
              "0      Arnot Power Station  ...                                                NaN\n",
              "1     Camden Power Station  ...                                                NaN\n",
              "2      Duvha Power Station  ...                                                NaN\n",
              "3  Grootvlei Power Station  ...  Units 5 and 6 were the first test facilities f...\n",
              "4   Hendrina Power Station  ...                                                NaN\n",
              "\n",
              "[5 rows x 9 columns]"
            ]
          },
          "metadata": {
            "tags": []
          },
          "execution_count": 6
        }
      ]
    },
    {
      "cell_type": "code",
      "metadata": {
        "id": "u4o9yJj_m87-",
        "colab_type": "code",
        "colab": {
          "base_uri": "https://localhost:8080/",
          "height": 97
        },
        "outputId": "5ab7512b-4d5f-408f-d6d4-1bb3e6e13cf9"
      },
      "source": [
        "nuclear_stations_df.head()"
      ],
      "execution_count": 7,
      "outputs": [
        {
          "output_type": "execute_result",
          "data": {
            "text/html": [
              "<div>\n",
              "<style scoped>\n",
              "    .dataframe tbody tr th:only-of-type {\n",
              "        vertical-align: middle;\n",
              "    }\n",
              "\n",
              "    .dataframe tbody tr th {\n",
              "        vertical-align: top;\n",
              "    }\n",
              "\n",
              "    .dataframe thead th {\n",
              "        text-align: right;\n",
              "    }\n",
              "</style>\n",
              "<table border=\"1\" class=\"dataframe\">\n",
              "  <thead>\n",
              "    <tr style=\"text-align: right;\">\n",
              "      <th></th>\n",
              "      <th>Power_plant</th>\n",
              "      <th>Province</th>\n",
              "      <th>_Date_commissioned_</th>\n",
              "      <th>_Capacity__Megawatt__</th>\n",
              "      <th>_Annual_output_GWh_</th>\n",
              "      <th>Capacity_factor__</th>\n",
              "      <th>Status</th>\n",
              "      <th>Coordinates</th>\n",
              "    </tr>\n",
              "  </thead>\n",
              "  <tbody>\n",
              "    <tr>\n",
              "      <th>0</th>\n",
              "      <td>Koeberg nuclear power station</td>\n",
              "      <td>Western Cape</td>\n",
              "      <td>1984</td>\n",
              "      <td>1,860</td>\n",
              "      <td>13668</td>\n",
              "      <td>84</td>\n",
              "      <td>Operational</td>\n",
              "      <td>33°40′35.2″S 18°25′55.37″E</td>\n",
              "    </tr>\n",
              "  </tbody>\n",
              "</table>\n",
              "</div>"
            ],
            "text/plain": [
              "                     Power_plant  ...                 Coordinates\n",
              "0  Koeberg nuclear power station  ...  33°40′35.2″S 18°25′55.37″E\n",
              "\n",
              "[1 rows x 8 columns]"
            ]
          },
          "metadata": {
            "tags": []
          },
          "execution_count": 7
        }
      ]
    },
    {
      "cell_type": "code",
      "metadata": {
        "id": "xLkvuEt1m_l4",
        "colab_type": "code",
        "colab": {
          "base_uri": "https://localhost:8080/",
          "height": 323
        },
        "outputId": "67cb7748-89b0-459a-be2d-7e0d5ccb9ed4"
      },
      "source": [
        "hydroelectric_stations_df.head()"
      ],
      "execution_count": 8,
      "outputs": [
        {
          "output_type": "execute_result",
          "data": {
            "text/html": [
              "<div>\n",
              "<style scoped>\n",
              "    .dataframe tbody tr th:only-of-type {\n",
              "        vertical-align: middle;\n",
              "    }\n",
              "\n",
              "    .dataframe tbody tr th {\n",
              "        vertical-align: top;\n",
              "    }\n",
              "\n",
              "    .dataframe thead th {\n",
              "        text-align: right;\n",
              "    }\n",
              "</style>\n",
              "<table border=\"1\" class=\"dataframe\">\n",
              "  <thead>\n",
              "    <tr style=\"text-align: right;\">\n",
              "      <th></th>\n",
              "      <th>Power_plant</th>\n",
              "      <th>Province</th>\n",
              "      <th>_Date_commissioned__planned__</th>\n",
              "      <th>_Installed_capacity__planned___Megawatt__</th>\n",
              "      <th>Status</th>\n",
              "      <th>Coordinates</th>\n",
              "      <th>Operator</th>\n",
              "      <th>Notes</th>\n",
              "    </tr>\n",
              "  </thead>\n",
              "  <tbody>\n",
              "    <tr>\n",
              "      <th>0</th>\n",
              "      <td>Tubatse Pumped Storage Scheme</td>\n",
              "      <td>Limpopo (Roossenekal)</td>\n",
              "      <td>(?)</td>\n",
              "      <td>1500.0</td>\n",
              "      <td>Project on hold</td>\n",
              "      <td>25°07′51″S 29°49′24″E</td>\n",
              "      <td>Eskom</td>\n",
              "      <td>Previously called Project Lima\\r\\n</td>\n",
              "    </tr>\n",
              "    <tr>\n",
              "      <th>1</th>\n",
              "      <td>Ingula Pumped Storage Scheme</td>\n",
              "      <td>KwaZulu-Natal</td>\n",
              "      <td>2017</td>\n",
              "      <td>1332.0</td>\n",
              "      <td>Operational</td>\n",
              "      <td>28°16′50″S 29°35′12″E</td>\n",
              "      <td>Eskom</td>\n",
              "      <td>NaN</td>\n",
              "    </tr>\n",
              "    <tr>\n",
              "      <th>2</th>\n",
              "      <td>Drakensberg Pumped Storage Scheme</td>\n",
              "      <td>Free State</td>\n",
              "      <td>1981</td>\n",
              "      <td>1000.0</td>\n",
              "      <td>Operational</td>\n",
              "      <td>28°34′23″S 29°05′13″E</td>\n",
              "      <td>Eskom</td>\n",
              "      <td>NaN</td>\n",
              "    </tr>\n",
              "    <tr>\n",
              "      <th>3</th>\n",
              "      <td>Gariep Dam</td>\n",
              "      <td>Free State-Eastern Cape border</td>\n",
              "      <td>1971</td>\n",
              "      <td>360.0</td>\n",
              "      <td>Operational</td>\n",
              "      <td>30°37′25.43″S 25°30′23.81″E</td>\n",
              "      <td>Eskom</td>\n",
              "      <td>NaN</td>\n",
              "    </tr>\n",
              "    <tr>\n",
              "      <th>4</th>\n",
              "      <td>Palmiet Pumped Storage Scheme</td>\n",
              "      <td>Western Cape</td>\n",
              "      <td>1988</td>\n",
              "      <td>400.0</td>\n",
              "      <td>Operational</td>\n",
              "      <td>34°11′52″S 18°58′27″E</td>\n",
              "      <td>Eskom</td>\n",
              "      <td>NaN</td>\n",
              "    </tr>\n",
              "  </tbody>\n",
              "</table>\n",
              "</div>"
            ],
            "text/plain": [
              "                         Power_plant  ...                               Notes\n",
              "0      Tubatse Pumped Storage Scheme  ...  Previously called Project Lima\\r\\n\n",
              "1       Ingula Pumped Storage Scheme  ...                                 NaN\n",
              "2  Drakensberg Pumped Storage Scheme  ...                                 NaN\n",
              "3                         Gariep Dam  ...                                 NaN\n",
              "4      Palmiet Pumped Storage Scheme  ...                                 NaN\n",
              "\n",
              "[5 rows x 8 columns]"
            ]
          },
          "metadata": {
            "tags": []
          },
          "execution_count": 8
        }
      ]
    },
    {
      "cell_type": "code",
      "metadata": {
        "id": "5ZaIzy5TnCvp",
        "colab_type": "code",
        "colab": {
          "base_uri": "https://localhost:8080/",
          "height": 204
        },
        "outputId": "4cc86758-4295-4723-e724-95744c91dec4"
      },
      "source": [
        "gas_turbine_stations_df.head()"
      ],
      "execution_count": 9,
      "outputs": [
        {
          "output_type": "execute_result",
          "data": {
            "text/html": [
              "<div>\n",
              "<style scoped>\n",
              "    .dataframe tbody tr th:only-of-type {\n",
              "        vertical-align: middle;\n",
              "    }\n",
              "\n",
              "    .dataframe tbody tr th {\n",
              "        vertical-align: top;\n",
              "    }\n",
              "\n",
              "    .dataframe thead th {\n",
              "        text-align: right;\n",
              "    }\n",
              "</style>\n",
              "<table border=\"1\" class=\"dataframe\">\n",
              "  <thead>\n",
              "    <tr style=\"text-align: right;\">\n",
              "      <th></th>\n",
              "      <th>Power_plant</th>\n",
              "      <th>Province</th>\n",
              "      <th>_Date_commissioned_</th>\n",
              "      <th>_Installed_capacity__Megawatt__</th>\n",
              "      <th>Status</th>\n",
              "      <th>Coordinates</th>\n",
              "      <th>Operator</th>\n",
              "      <th>Notes</th>\n",
              "    </tr>\n",
              "  </thead>\n",
              "  <tbody>\n",
              "    <tr>\n",
              "      <th>0</th>\n",
              "      <td>Acacia Power Station</td>\n",
              "      <td>Western Cape</td>\n",
              "      <td>1976</td>\n",
              "      <td>171</td>\n",
              "      <td>Operational</td>\n",
              "      <td>33°53′00″S 18°32′08″E</td>\n",
              "      <td>Eskom</td>\n",
              "      <td>NaN</td>\n",
              "    </tr>\n",
              "    <tr>\n",
              "      <th>1</th>\n",
              "      <td>Ankerlig Power Station</td>\n",
              "      <td>Western Cape</td>\n",
              "      <td>2007</td>\n",
              "      <td>1338</td>\n",
              "      <td>Operational</td>\n",
              "      <td>33°35′32″S 18°27′37″E</td>\n",
              "      <td>Eskom</td>\n",
              "      <td>NaN</td>\n",
              "    </tr>\n",
              "    <tr>\n",
              "      <th>2</th>\n",
              "      <td>Gourikwa Power Station</td>\n",
              "      <td>Western Cape</td>\n",
              "      <td>2007</td>\n",
              "      <td>746</td>\n",
              "      <td>Operational</td>\n",
              "      <td>34°10′00″S 21°57′38″E</td>\n",
              "      <td>Eskom</td>\n",
              "      <td>NaN</td>\n",
              "    </tr>\n",
              "    <tr>\n",
              "      <th>3</th>\n",
              "      <td>Newcastle Cogeneration Plant</td>\n",
              "      <td>KwaZulu-Natal</td>\n",
              "      <td>2007</td>\n",
              "      <td>18</td>\n",
              "      <td>Operational</td>\n",
              "      <td>27°47′08″S 29°58′11″E</td>\n",
              "      <td>IPSA Group</td>\n",
              "      <td>NaN</td>\n",
              "    </tr>\n",
              "    <tr>\n",
              "      <th>4</th>\n",
              "      <td>Port Rex Power Station</td>\n",
              "      <td>Eastern Cape</td>\n",
              "      <td>1976</td>\n",
              "      <td>171</td>\n",
              "      <td>Operational</td>\n",
              "      <td>33°01′43″S 27°52′52″E</td>\n",
              "      <td>Eskom</td>\n",
              "      <td>NaN</td>\n",
              "    </tr>\n",
              "  </tbody>\n",
              "</table>\n",
              "</div>"
            ],
            "text/plain": [
              "                    Power_plant       Province  ...    Operator  Notes\n",
              "0          Acacia Power Station   Western Cape  ...       Eskom    NaN\n",
              "1        Ankerlig Power Station   Western Cape  ...       Eskom    NaN\n",
              "2        Gourikwa Power Station   Western Cape  ...       Eskom    NaN\n",
              "3  Newcastle Cogeneration Plant  KwaZulu-Natal  ...  IPSA Group    NaN\n",
              "4        Port Rex Power Station   Eastern Cape  ...       Eskom    NaN\n",
              "\n",
              "[5 rows x 8 columns]"
            ]
          },
          "metadata": {
            "tags": []
          },
          "execution_count": 9
        }
      ]
    },
    {
      "cell_type": "code",
      "metadata": {
        "id": "LodpNqNbnG4S",
        "colab_type": "code",
        "colab": {
          "base_uri": "https://localhost:8080/",
          "height": 199
        },
        "outputId": "fcff5c6c-14a8-47b0-8fff-c9d647a4033f"
      },
      "source": [
        "wind_stations_df.head()"
      ],
      "execution_count": 10,
      "outputs": [
        {
          "output_type": "execute_result",
          "data": {
            "text/html": [
              "<div>\n",
              "<style scoped>\n",
              "    .dataframe tbody tr th:only-of-type {\n",
              "        vertical-align: middle;\n",
              "    }\n",
              "\n",
              "    .dataframe tbody tr th {\n",
              "        vertical-align: top;\n",
              "    }\n",
              "\n",
              "    .dataframe thead th {\n",
              "        text-align: right;\n",
              "    }\n",
              "</style>\n",
              "<table border=\"1\" class=\"dataframe\">\n",
              "  <thead>\n",
              "    <tr style=\"text-align: right;\">\n",
              "      <th></th>\n",
              "      <th>Power_plant</th>\n",
              "      <th>Province</th>\n",
              "      <th>_Date_commissioned__planned__</th>\n",
              "      <th>_Capacity_MW__planned__</th>\n",
              "      <th>_Annual_output_GWh__expected__</th>\n",
              "      <th>Capacity_factor____expected_</th>\n",
              "      <th>Status</th>\n",
              "      <th>Coordinates</th>\n",
              "      <th>Operator</th>\n",
              "    </tr>\n",
              "  </thead>\n",
              "  <tbody>\n",
              "    <tr>\n",
              "      <th>0</th>\n",
              "      <td>Klipheuwel Wind Farm</td>\n",
              "      <td>Western Cape, (Klipheuwel)</td>\n",
              "      <td>2002</td>\n",
              "      <td>3.16</td>\n",
              "      <td>4</td>\n",
              "      <td>15 (20–26)</td>\n",
              "      <td>Decommissioned (Prototype/Research)</td>\n",
              "      <td>33°41′43″S 18°43′30″E</td>\n",
              "      <td>Eskom</td>\n",
              "    </tr>\n",
              "    <tr>\n",
              "      <th>1</th>\n",
              "      <td>Sere Wind Farm</td>\n",
              "      <td>Western Cape, (Koekenaap)</td>\n",
              "      <td>Jan 2015\\r\\n(October 2013)</td>\n",
              "      <td>100.00</td>\n",
              "      <td>-233</td>\n",
              "      <td>-27</td>\n",
              "      <td>Operational</td>\n",
              "      <td>31°29′49″S 18°3′48″E</td>\n",
              "      <td>Eskom</td>\n",
              "    </tr>\n",
              "  </tbody>\n",
              "</table>\n",
              "</div>"
            ],
            "text/plain": [
              "            Power_plant  ... Operator\n",
              "0  Klipheuwel Wind Farm  ...    Eskom\n",
              "1        Sere Wind Farm  ...    Eskom\n",
              "\n",
              "[2 rows x 9 columns]"
            ]
          },
          "metadata": {
            "tags": []
          },
          "execution_count": 10
        }
      ]
    },
    {
      "cell_type": "code",
      "metadata": {
        "id": "gg8sdQeanRp1",
        "colab_type": "code",
        "colab": {
          "base_uri": "https://localhost:8080/",
          "height": 204
        },
        "outputId": "26c666cb-b336-47d0-aaea-acb618c41d95"
      },
      "source": [
        "province_electrification_df.head()"
      ],
      "execution_count": 11,
      "outputs": [
        {
          "output_type": "execute_result",
          "data": {
            "text/html": [
              "<div>\n",
              "<style scoped>\n",
              "    .dataframe tbody tr th:only-of-type {\n",
              "        vertical-align: middle;\n",
              "    }\n",
              "\n",
              "    .dataframe tbody tr th {\n",
              "        vertical-align: top;\n",
              "    }\n",
              "\n",
              "    .dataframe thead th {\n",
              "        text-align: right;\n",
              "    }\n",
              "</style>\n",
              "<table border=\"1\" class=\"dataframe\">\n",
              "  <thead>\n",
              "    <tr style=\"text-align: right;\">\n",
              "      <th></th>\n",
              "      <th>2000</th>\n",
              "      <th>2001</th>\n",
              "      <th>2002</th>\n",
              "      <th>2003</th>\n",
              "      <th>2004</th>\n",
              "      <th>2005</th>\n",
              "      <th>2006</th>\n",
              "      <th>2007</th>\n",
              "      <th>2008</th>\n",
              "      <th>2009</th>\n",
              "      <th>2010</th>\n",
              "      <th>2011</th>\n",
              "      <th>province</th>\n",
              "    </tr>\n",
              "  </thead>\n",
              "  <tbody>\n",
              "    <tr>\n",
              "      <th>0</th>\n",
              "      <td>21,293</td>\n",
              "      <td>20,928</td>\n",
              "      <td>10,316</td>\n",
              "      <td>16,135</td>\n",
              "      <td>5,668</td>\n",
              "      <td>7,301</td>\n",
              "      <td>4,205</td>\n",
              "      <td>10,635</td>\n",
              "      <td>6,292</td>\n",
              "      <td>16,769</td>\n",
              "      <td>10,582</td>\n",
              "      <td>4,806</td>\n",
              "      <td>Free State</td>\n",
              "    </tr>\n",
              "    <tr>\n",
              "      <th>1</th>\n",
              "      <td>39,660</td>\n",
              "      <td>36,024</td>\n",
              "      <td>32,127</td>\n",
              "      <td>39,488</td>\n",
              "      <td>18,422</td>\n",
              "      <td>23,532</td>\n",
              "      <td>8,842</td>\n",
              "      <td>37,416</td>\n",
              "      <td>16,156</td>\n",
              "      <td>18,730</td>\n",
              "      <td>19,261</td>\n",
              "      <td>25,275</td>\n",
              "      <td>Gauteng</td>\n",
              "    </tr>\n",
              "    <tr>\n",
              "      <th>2</th>\n",
              "      <td>63,413</td>\n",
              "      <td>64,123</td>\n",
              "      <td>63,078</td>\n",
              "      <td>60,282</td>\n",
              "      <td>37,811</td>\n",
              "      <td>36,501</td>\n",
              "      <td>33,184</td>\n",
              "      <td>43,971</td>\n",
              "      <td>29,253</td>\n",
              "      <td>43,396</td>\n",
              "      <td>28,748</td>\n",
              "      <td>22,079</td>\n",
              "      <td>Kwazulu Natal</td>\n",
              "    </tr>\n",
              "    <tr>\n",
              "      <th>3</th>\n",
              "      <td>51,860</td>\n",
              "      <td>68,121</td>\n",
              "      <td>49,881</td>\n",
              "      <td>42,034</td>\n",
              "      <td>54,646</td>\n",
              "      <td>60,316</td>\n",
              "      <td>18,592</td>\n",
              "      <td>46,036</td>\n",
              "      <td>35,828</td>\n",
              "      <td>35,198</td>\n",
              "      <td>36,772</td>\n",
              "      <td>29,980</td>\n",
              "      <td>Limpopo</td>\n",
              "    </tr>\n",
              "    <tr>\n",
              "      <th>4</th>\n",
              "      <td>28,365</td>\n",
              "      <td>26,303</td>\n",
              "      <td>11,976</td>\n",
              "      <td>33,515</td>\n",
              "      <td>16,218</td>\n",
              "      <td>17,890</td>\n",
              "      <td>4,682</td>\n",
              "      <td>21,195</td>\n",
              "      <td>17,331</td>\n",
              "      <td>23,762</td>\n",
              "      <td>17,422</td>\n",
              "      <td>12,578</td>\n",
              "      <td>Mpumalanga</td>\n",
              "    </tr>\n",
              "  </tbody>\n",
              "</table>\n",
              "</div>"
            ],
            "text/plain": [
              "        2000       2001       2002  ...       2010       2011       province\n",
              "0    21,293     20,928     10,316   ...    10,582      4,806      Free State\n",
              "1    39,660     36,024     32,127   ...    19,261     25,275         Gauteng\n",
              "2    63,413     64,123     63,078   ...    28,748     22,079   Kwazulu Natal\n",
              "3    51,860     68,121     49,881   ...    36,772     29,980         Limpopo\n",
              "4    28,365     26,303     11,976   ...    17,422     12,578      Mpumalanga\n",
              "\n",
              "[5 rows x 13 columns]"
            ]
          },
          "metadata": {
            "tags": []
          },
          "execution_count": 11
        }
      ]
    },
    {
      "cell_type": "code",
      "metadata": {
        "id": "ETRzC7XInU6P",
        "colab_type": "code",
        "colab": {
          "base_uri": "https://localhost:8080/",
          "height": 204
        },
        "outputId": "c7eda446-025e-4f69-8079-65d8ba0f9dab"
      },
      "source": [
        "province_table_df.head()"
      ],
      "execution_count": 12,
      "outputs": [
        {
          "output_type": "execute_result",
          "data": {
            "text/html": [
              "<div>\n",
              "<style scoped>\n",
              "    .dataframe tbody tr th:only-of-type {\n",
              "        vertical-align: middle;\n",
              "    }\n",
              "\n",
              "    .dataframe tbody tr th {\n",
              "        vertical-align: top;\n",
              "    }\n",
              "\n",
              "    .dataframe thead th {\n",
              "        text-align: right;\n",
              "    }\n",
              "</style>\n",
              "<table border=\"1\" class=\"dataframe\">\n",
              "  <thead>\n",
              "    <tr style=\"text-align: right;\">\n",
              "      <th></th>\n",
              "      <th>Province_ID</th>\n",
              "      <th>Province</th>\n",
              "    </tr>\n",
              "  </thead>\n",
              "  <tbody>\n",
              "    <tr>\n",
              "      <th>0</th>\n",
              "      <td>1</td>\n",
              "      <td>Mpumalanga</td>\n",
              "    </tr>\n",
              "    <tr>\n",
              "      <th>1</th>\n",
              "      <td>2</td>\n",
              "      <td>North West</td>\n",
              "    </tr>\n",
              "    <tr>\n",
              "      <th>2</th>\n",
              "      <td>3</td>\n",
              "      <td>Gauteng</td>\n",
              "    </tr>\n",
              "    <tr>\n",
              "      <th>3</th>\n",
              "      <td>4</td>\n",
              "      <td>Western Cape</td>\n",
              "    </tr>\n",
              "    <tr>\n",
              "      <th>4</th>\n",
              "      <td>5</td>\n",
              "      <td>Eastern Cape</td>\n",
              "    </tr>\n",
              "  </tbody>\n",
              "</table>\n",
              "</div>"
            ],
            "text/plain": [
              "   Province_ID      Province\n",
              "0            1    Mpumalanga\n",
              "1            2    North West\n",
              "2            3       Gauteng\n",
              "3            4  Western Cape\n",
              "4            5  Eastern Cape"
            ]
          },
          "metadata": {
            "tags": []
          },
          "execution_count": 12
        }
      ]
    },
    {
      "cell_type": "code",
      "metadata": {
        "id": "DVeU7mVXnX7a",
        "colab_type": "code",
        "colab": {
          "base_uri": "https://localhost:8080/",
          "height": 204
        },
        "outputId": "d8c27f45-ffc9-43b5-e3a8-5bded80a6f66"
      },
      "source": [
        "electricity_generated_df.head()"
      ],
      "execution_count": 13,
      "outputs": [
        {
          "output_type": "execute_result",
          "data": {
            "text/html": [
              "<div>\n",
              "<style scoped>\n",
              "    .dataframe tbody tr th:only-of-type {\n",
              "        vertical-align: middle;\n",
              "    }\n",
              "\n",
              "    .dataframe tbody tr th {\n",
              "        vertical-align: top;\n",
              "    }\n",
              "\n",
              "    .dataframe thead th {\n",
              "        text-align: right;\n",
              "    }\n",
              "</style>\n",
              "<table border=\"1\" class=\"dataframe\">\n",
              "  <thead>\n",
              "    <tr style=\"text-align: right;\">\n",
              "      <th></th>\n",
              "      <th>electricity_distributed</th>\n",
              "      <th>Date(mm-yyyy)</th>\n",
              "    </tr>\n",
              "  </thead>\n",
              "  <tbody>\n",
              "    <tr>\n",
              "      <th>0</th>\n",
              "      <td>19,491</td>\n",
              "      <td>2015-01-01 00:00:00</td>\n",
              "    </tr>\n",
              "    <tr>\n",
              "      <th>1</th>\n",
              "      <td>18,902</td>\n",
              "      <td>2016-01-01 00:00:00</td>\n",
              "    </tr>\n",
              "    <tr>\n",
              "      <th>2</th>\n",
              "      <td>18,786</td>\n",
              "      <td>2017-01-01 00:00:00</td>\n",
              "    </tr>\n",
              "    <tr>\n",
              "      <th>3</th>\n",
              "      <td>19,074</td>\n",
              "      <td>2018-01-01 00:00:00</td>\n",
              "    </tr>\n",
              "    <tr>\n",
              "      <th>4</th>\n",
              "      <td>19,099</td>\n",
              "      <td>2019-01-01 00:00:00</td>\n",
              "    </tr>\n",
              "  </tbody>\n",
              "</table>\n",
              "</div>"
            ],
            "text/plain": [
              "  electricity_distributed        Date(mm-yyyy)\n",
              "0                  19,491  2015-01-01 00:00:00\n",
              "1                  18,902  2016-01-01 00:00:00\n",
              "2                  18,786  2017-01-01 00:00:00\n",
              "3                  19,074  2018-01-01 00:00:00\n",
              "4                  19,099  2019-01-01 00:00:00"
            ]
          },
          "metadata": {
            "tags": []
          },
          "execution_count": 13
        }
      ]
    },
    {
      "cell_type": "code",
      "metadata": {
        "id": "p5LC2OvWnbxB",
        "colab_type": "code",
        "colab": {
          "base_uri": "https://localhost:8080/",
          "height": 199
        },
        "outputId": "5c5d41d3-1e1c-412a-8471-dd0ed73c2c03"
      },
      "source": [
        "eskom_df.head()"
      ],
      "execution_count": 14,
      "outputs": [
        {
          "output_type": "execute_result",
          "data": {
            "text/html": [
              "<div>\n",
              "<style scoped>\n",
              "    .dataframe tbody tr th:only-of-type {\n",
              "        vertical-align: middle;\n",
              "    }\n",
              "\n",
              "    .dataframe tbody tr th {\n",
              "        vertical-align: top;\n",
              "    }\n",
              "\n",
              "    .dataframe thead th {\n",
              "        text-align: right;\n",
              "    }\n",
              "</style>\n",
              "<table border=\"1\" class=\"dataframe\">\n",
              "  <thead>\n",
              "    <tr style=\"text-align: right;\">\n",
              "      <th></th>\n",
              "      <th>Power_plant</th>\n",
              "      <th>Province</th>\n",
              "      <th>_Date_commissioned__planned__</th>\n",
              "      <th>_Capacity_MW__planned__</th>\n",
              "      <th>_Annual_output_GWh__expected__</th>\n",
              "      <th>Capacity_factor____expected_</th>\n",
              "      <th>Status</th>\n",
              "      <th>Coordinates</th>\n",
              "      <th>Operator</th>\n",
              "    </tr>\n",
              "  </thead>\n",
              "  <tbody>\n",
              "    <tr>\n",
              "      <th>0</th>\n",
              "      <td>Klipheuwel Wind Farm</td>\n",
              "      <td>Western Cape, (Klipheuwel)</td>\n",
              "      <td>2002</td>\n",
              "      <td>3.16</td>\n",
              "      <td>4</td>\n",
              "      <td>15 (20–26)</td>\n",
              "      <td>Decommissioned (Prototype/Research)</td>\n",
              "      <td>33°41′43″S 18°43′30″E</td>\n",
              "      <td>Eskom</td>\n",
              "    </tr>\n",
              "    <tr>\n",
              "      <th>1</th>\n",
              "      <td>Sere Wind Farm</td>\n",
              "      <td>Western Cape, (Koekenaap)</td>\n",
              "      <td>Jan 2015\\r\\n(October 2013)</td>\n",
              "      <td>100.00</td>\n",
              "      <td>-233</td>\n",
              "      <td>-27</td>\n",
              "      <td>Operational</td>\n",
              "      <td>31°29′49″S 18°3′48″E</td>\n",
              "      <td>Eskom</td>\n",
              "    </tr>\n",
              "  </tbody>\n",
              "</table>\n",
              "</div>"
            ],
            "text/plain": [
              "            Power_plant  ... Operator\n",
              "0  Klipheuwel Wind Farm  ...    Eskom\n",
              "1        Sere Wind Farm  ...    Eskom\n",
              "\n",
              "[2 rows x 9 columns]"
            ]
          },
          "metadata": {
            "tags": []
          },
          "execution_count": 14
        }
      ]
    },
    {
      "cell_type": "code",
      "metadata": {
        "id": "8u2mjL-snfeN",
        "colab_type": "code",
        "colab": {
          "base_uri": "https://localhost:8080/",
          "height": 204
        },
        "outputId": "ffc02dbc-c058-41dd-853b-8431663b87bd"
      },
      "source": [
        "year_on_year_change_df.head()"
      ],
      "execution_count": 15,
      "outputs": [
        {
          "output_type": "execute_result",
          "data": {
            "text/html": [
              "<div>\n",
              "<style scoped>\n",
              "    .dataframe tbody tr th:only-of-type {\n",
              "        vertical-align: middle;\n",
              "    }\n",
              "\n",
              "    .dataframe tbody tr th {\n",
              "        vertical-align: top;\n",
              "    }\n",
              "\n",
              "    .dataframe thead th {\n",
              "        text-align: right;\n",
              "    }\n",
              "</style>\n",
              "<table border=\"1\" class=\"dataframe\">\n",
              "  <thead>\n",
              "    <tr style=\"text-align: right;\">\n",
              "      <th></th>\n",
              "      <th>column1</th>\n",
              "      <th>column2</th>\n",
              "      <th>column3</th>\n",
              "      <th>column4</th>\n",
              "      <th>column5</th>\n",
              "      <th>column6</th>\n",
              "      <th>column7</th>\n",
              "      <th>column8</th>\n",
              "      <th>column9</th>\n",
              "      <th>column10</th>\n",
              "      <th>column11</th>\n",
              "      <th>column12</th>\n",
              "      <th>column13</th>\n",
              "      <th>column14</th>\n",
              "      <th>column15</th>\n",
              "    </tr>\n",
              "  </thead>\n",
              "  <tbody>\n",
              "    <tr>\n",
              "      <th>0</th>\n",
              "      <td>Jan</td>\n",
              "      <td>0.2</td>\n",
              "      <td>NaN</td>\n",
              "      <td>-3.0</td>\n",
              "      <td>NaN</td>\n",
              "      <td>-0.6</td>\n",
              "      <td>NaN</td>\n",
              "      <td>1.5</td>\n",
              "      <td>NaN</td>\n",
              "      <td>NaN</td>\n",
              "      <td>0.1</td>\n",
              "      <td>NaN</td>\n",
              "      <td>NaN</td>\n",
              "      <td>NaN</td>\n",
              "      <td>0.1</td>\n",
              "    </tr>\n",
              "    <tr>\n",
              "      <th>1</th>\n",
              "      <td>Feb</td>\n",
              "      <td>0.8</td>\n",
              "      <td>NaN</td>\n",
              "      <td>0.6</td>\n",
              "      <td>NaN</td>\n",
              "      <td>-3.6</td>\n",
              "      <td>NaN</td>\n",
              "      <td>0.7</td>\n",
              "      <td>NaN</td>\n",
              "      <td>NaN</td>\n",
              "      <td>-1.0</td>\n",
              "      <td>NaN</td>\n",
              "      <td>NaN</td>\n",
              "      <td>NaN</td>\n",
              "      <td>-0.4</td>\n",
              "    </tr>\n",
              "    <tr>\n",
              "      <th>2</th>\n",
              "      <td>Mar</td>\n",
              "      <td>3.0</td>\n",
              "      <td>NaN</td>\n",
              "      <td>-5.4</td>\n",
              "      <td>NaN</td>\n",
              "      <td>2.7</td>\n",
              "      <td>NaN</td>\n",
              "      <td>0.2</td>\n",
              "      <td>NaN</td>\n",
              "      <td>NaN</td>\n",
              "      <td>-2.8</td>\n",
              "      <td>NaN</td>\n",
              "      <td>NaN</td>\n",
              "      <td>NaN</td>\n",
              "      <td>-1.2</td>\n",
              "    </tr>\n",
              "    <tr>\n",
              "      <th>3</th>\n",
              "      <td>Apr</td>\n",
              "      <td>-0.8</td>\n",
              "      <td>NaN</td>\n",
              "      <td>-1.3</td>\n",
              "      <td>NaN</td>\n",
              "      <td>0.1</td>\n",
              "      <td>NaN</td>\n",
              "      <td>-0.7</td>\n",
              "      <td>NaN</td>\n",
              "      <td>NaN</td>\n",
              "      <td>1.6</td>\n",
              "      <td>NaN</td>\n",
              "      <td>NaN</td>\n",
              "      <td>NaN</td>\n",
              "      <td>-0.5</td>\n",
              "    </tr>\n",
              "    <tr>\n",
              "      <th>4</th>\n",
              "      <td>May</td>\n",
              "      <td>-1.4</td>\n",
              "      <td>NaN</td>\n",
              "      <td>-0.7</td>\n",
              "      <td>NaN</td>\n",
              "      <td>3.4</td>\n",
              "      <td>NaN</td>\n",
              "      <td>0.2</td>\n",
              "      <td>NaN</td>\n",
              "      <td>NaN</td>\n",
              "      <td>-1.3</td>\n",
              "      <td>NaN</td>\n",
              "      <td>NaN</td>\n",
              "      <td>NaN</td>\n",
              "      <td>-0.7</td>\n",
              "    </tr>\n",
              "  </tbody>\n",
              "</table>\n",
              "</div>"
            ],
            "text/plain": [
              "  column1  column2  column3  column4  ...  column12  column13  column14  column15\n",
              "0     Jan      0.2      NaN     -3.0  ...       NaN       NaN       NaN       0.1\n",
              "1     Feb      0.8      NaN      0.6  ...       NaN       NaN       NaN      -0.4\n",
              "2     Mar      3.0      NaN     -5.4  ...       NaN       NaN       NaN      -1.2\n",
              "3     Apr     -0.8      NaN     -1.3  ...       NaN       NaN       NaN      -0.5\n",
              "4     May     -1.4      NaN     -0.7  ...       NaN       NaN       NaN      -0.7\n",
              "\n",
              "[5 rows x 15 columns]"
            ]
          },
          "metadata": {
            "tags": []
          },
          "execution_count": 15
        }
      ]
    },
    {
      "cell_type": "code",
      "metadata": {
        "id": "eQ16AuVWni1n",
        "colab_type": "code",
        "colab": {}
      },
      "source": [
        ""
      ],
      "execution_count": 0,
      "outputs": []
    },
    {
      "cell_type": "markdown",
      "metadata": {
        "id": "kAx_ZVWGnprH",
        "colab_type": "text"
      },
      "source": [
        "### Authors:"
      ]
    }
  ]
}