{
 "cells": [
  {
   "cell_type": "markdown",
   "metadata": {},
   "source": [
    "# Building an ETL Pipeline"
   ]
  },
  {
   "cell_type": "code",
   "execution_count": 18,
   "metadata": {},
   "outputs": [],
   "source": [
    "import pandas as pd\n",
    "import mysql.connector \n",
    "import pymysql\n",
    "from sqlalchemy import create_engine\n",
    "from datetime import datetime, date, time, timedelta\n",
    "import tweepy\n",
    "import numpy as np \n",
    "import pyodbc\n",
    "from sqlalchemy import create_engine\n",
    "import urllib"
   ]
  },
  {
   "cell_type": "markdown",
   "metadata": {},
   "source": [
    "### Connecting to Twitter"
   ]
  },
  {
   "cell_type": "code",
   "execution_count": 7,
   "metadata": {},
   "outputs": [],
   "source": [
    "# Consumer:\n",
    "CONSUMER_KEY    = 'uXfKji3NyWLDEGI3gXxx3tBNc'\n",
    "CONSUMER_SECRET = 'eiuC2xhRfbmbY2gSplZOcL4dPSSUiqmB8SbLk6eGuZ2DaBaYQj'\n",
    "\n",
    "# Access:\n",
    "ACCESS_TOKEN  = '1219607153163603968-oOHm1E2uXjyBiBOkkKNExfAwvU4dVd'\n",
    "ACCESS_SECRET = '3dZ7jyldTV1m1RxoVPv8VEOT92m2OwEPpF1Syj0j2Mu95'"
   ]
  },
  {
   "cell_type": "code",
   "execution_count": 19,
   "metadata": {},
   "outputs": [],
   "source": [
    "# API's setup:\n",
    "def twitter_setup():\n",
    "    \"\"\"\n",
    "    Utility function to setup the Twitter's API\n",
    "    with access and consumer keys from Twitter.\n",
    "    \"\"\"\n",
    "\n",
    "    # Authentication and access using keys:\n",
    "    auth = tweepy.OAuthHandler(CONSUMER_KEY, CONSUMER_SECRET)\n",
    "    auth.set_access_token(ACCESS_TOKEN, ACCESS_SECRET)\n",
    "\n",
    "    # Return API with authentication:\n",
    "    api = tweepy.API(auth, timeout=1000)\n",
    "    return api"
   ]
  },
  {
   "cell_type": "code",
   "execution_count": 20,
   "metadata": {},
   "outputs": [],
   "source": [
    "def twitter_df():\n",
    "    api = twitter_setup()\n",
    "    all_tweets = []\n",
    "    tweets = api.user_timeline(screen_name='ESKOM_SA', \n",
    "                           # 200 is the maximum allowed count\n",
    "                           count=200,\n",
    "                           include_rts = False,\n",
    "                           # Necessary to keep full_text \n",
    "                           # otherwise only the first 140 words are extracted\n",
    "                           tweet_mode = 'extended'\n",
    "                           )\n",
    "    all_tweets.extend(tweets)\n",
    "  \n",
    "    outtweets = [[tweet.full_text.encode(\"utf-8\").decode(\"utf-8\"),tweet.created_at] \n",
    "              for idx,tweet in enumerate(all_tweets)]\n",
    "    df = pd.DataFrame(outtweets,columns=['Tweets','Date'])\n",
    "    df.set_index('Tweets')\n",
    "    return df\n",
    "twitter_df=twitter_df()"
   ]
  },
  {
   "cell_type": "code",
   "execution_count": null,
   "metadata": {},
   "outputs": [],
   "source": []
  },
  {
   "cell_type": "code",
   "execution_count": 21,
   "metadata": {},
   "outputs": [
    {
     "ename": "TypeError",
     "evalue": "'DataFrame' object is not callable",
     "output_type": "error",
     "traceback": [
      "\u001b[1;31m---------------------------------------------------------------------------\u001b[0m",
      "\u001b[1;31mTypeError\u001b[0m                                 Traceback (most recent call last)",
      "\u001b[1;32m<ipython-input-21-a5e263c80e68>\u001b[0m in \u001b[0;36m<module>\u001b[1;34m\u001b[0m\n\u001b[0;32m     33\u001b[0m \u001b[1;33m\u001b[0m\u001b[0m\n\u001b[0;32m     34\u001b[0m     \u001b[1;32mreturn\u001b[0m \u001b[0mnew_df\u001b[0m\u001b[1;33m\u001b[0m\u001b[1;33m\u001b[0m\u001b[0m\n\u001b[1;32m---> 35\u001b[1;33m \u001b[0mextract_municipality_hashtags\u001b[0m\u001b[1;33m(\u001b[0m\u001b[0mtwitter_df\u001b[0m\u001b[1;33m(\u001b[0m\u001b[1;33m)\u001b[0m\u001b[1;33m)\u001b[0m\u001b[1;33m\u001b[0m\u001b[1;33m\u001b[0m\u001b[0m\n\u001b[0m",
      "\u001b[1;31mTypeError\u001b[0m: 'DataFrame' object is not callable"
     ]
    }
   ],
   "source": [
    "def extract_municipality_hashtags(df):\n",
    "    new_df = pd.DataFrame([])\n",
    "    municipality_dict = { '@CityofCTAlerts' : 'Cape Town',\n",
    "            '@CityPowerJhb' : 'Johannesburg',\n",
    "            '@eThekwiniM' : 'eThekwini' ,\n",
    "            '@EMMInfo' : 'Ekurhuleni',\n",
    "            '@centlecutility' : 'Mangaung',\n",
    "            '@NMBmunicipality' : 'Nelson Mandela Bay',\n",
    "            '@CityTshwane' : 'Tshwane'}\n",
    "  \n",
    "    length = len(df['Tweets'])\n",
    "    mun_list = []\n",
    "    flag = 0\n",
    "    for row in df['Tweets']:\n",
    "        flag = 0\n",
    "        for key in municipality_dict.keys():\n",
    "            if key in row:\n",
    "               mun_list.append(municipality_dict[key])\n",
    "               flag = 1\n",
    "            break\n",
    "        if not flag:\n",
    "          mun_list.append(np.nan)\n",
    "\n",
    "    final_hash = []\n",
    "    for row in df['Tweets']:\n",
    "     final_hash.append([string for string in row.lower().split() if string[0][0] == '#'])\n",
    "    final_hash = [np.nan if x == [] else x for x in final_hash]\n",
    "    \n",
    "    new_df['Tweets'] = df['Tweets']\n",
    "    new_df['Date'] = df['Date']\n",
    "    new_df['municipality'] = mun_list\n",
    "    new_df['hashtags'] = final_hash\n",
    "    \n",
    "    return new_df\n",
    "extract_municipality_hashtags(twitter_df())"
   ]
  },
  {
   "cell_type": "code",
   "execution_count": 11,
   "metadata": {},
   "outputs": [],
   "source": [
    "# host = COMPUTERNAME\\SQLEXPRESS\n",
    "\n",
    "params = urllib.parse.quote_plus(\"DRIVER={SQL Server};SERVER=MANDLA63\\SQLEXPRESS;DATABASE=gather_eskom;UID=sa;trusted_connection='true'\")\n",
    "engine = create_engine(\"mssql+pyodbc:///?odbc_connect=%s\" % params)\n",
    "\n",
    "df = twitter_df\n",
    "df.to_sql('twitter_table', con=engine, if_exists='append')"
   ]
  },
  {
   "cell_type": "code",
   "execution_count": 12,
   "metadata": {},
   "outputs": [
    {
     "data": {
      "text/html": [
       "<div>\n",
       "<style scoped>\n",
       "    .dataframe tbody tr th:only-of-type {\n",
       "        vertical-align: middle;\n",
       "    }\n",
       "\n",
       "    .dataframe tbody tr th {\n",
       "        vertical-align: top;\n",
       "    }\n",
       "\n",
       "    .dataframe thead th {\n",
       "        text-align: right;\n",
       "    }\n",
       "</style>\n",
       "<table border=\"1\" class=\"dataframe\">\n",
       "  <thead>\n",
       "    <tr style=\"text-align: right;\">\n",
       "      <th></th>\n",
       "      <th>index</th>\n",
       "      <th>Tweets</th>\n",
       "      <th>Date</th>\n",
       "    </tr>\n",
       "  </thead>\n",
       "  <tbody>\n",
       "    <tr>\n",
       "      <th>0</th>\n",
       "      <td>0</td>\n",
       "      <td>Interfering with or vandalising Eskom property...</td>\n",
       "      <td>2020-03-06 06:34:00</td>\n",
       "    </tr>\n",
       "    <tr>\n",
       "      <th>1</th>\n",
       "      <td>1</td>\n",
       "      <td>#POWERALERT 1\\n\\nDate: 06 March 2020\\n\\nNo loa...</td>\n",
       "      <td>2020-03-06 05:54:58</td>\n",
       "    </tr>\n",
       "    <tr>\n",
       "      <th>2</th>\n",
       "      <td>2</td>\n",
       "      <td>#Eskom #MediaStatement\\n\\nEskom notes allegati...</td>\n",
       "      <td>2020-03-05 19:28:53</td>\n",
       "    </tr>\n",
       "    <tr>\n",
       "      <th>3</th>\n",
       "      <td>3</td>\n",
       "      <td>DYK that you can report #poweroutages on MyEsk...</td>\n",
       "      <td>2020-03-05 16:00:00</td>\n",
       "    </tr>\n",
       "    <tr>\n",
       "      <th>4</th>\n",
       "      <td>4</td>\n",
       "      <td>#POWERALERT 2\\nDate: 05 March 2020\\n\\nNo loads...</td>\n",
       "      <td>2020-03-05 15:32:36</td>\n",
       "    </tr>\n",
       "  </tbody>\n",
       "</table>\n",
       "</div>"
      ],
      "text/plain": [
       "   index                                             Tweets  \\\n",
       "0      0  Interfering with or vandalising Eskom property...   \n",
       "1      1  #POWERALERT 1\\n\\nDate: 06 March 2020\\n\\nNo loa...   \n",
       "2      2  #Eskom #MediaStatement\\n\\nEskom notes allegati...   \n",
       "3      3  DYK that you can report #poweroutages on MyEsk...   \n",
       "4      4  #POWERALERT 2\\nDate: 05 March 2020\\n\\nNo loads...   \n",
       "\n",
       "                 Date  \n",
       "0 2020-03-06 06:34:00  \n",
       "1 2020-03-06 05:54:58  \n",
       "2 2020-03-05 19:28:53  \n",
       "3 2020-03-05 16:00:00  \n",
       "4 2020-03-05 15:32:36  "
      ]
     },
     "execution_count": 12,
     "metadata": {},
     "output_type": "execute_result"
    }
   ],
   "source": [
    "# Check that temp table is in your MS SQL Database\n",
    "conn = pyodbc.connect(driver='{SQL Server}' ,\n",
    "                     host='MANDLA63\\SQLEXPRESS' ,\n",
    "                     database='gather_eskom' ,\n",
    "                     trusted_connection='true',\n",
    "                     user='sa')\n",
    "\n",
    "twitter_df = pd.read_sql_query('select * from dbo.twitter_table',conn)\n",
    "twitter_df.head()"
   ]
  },
  {
   "cell_type": "code",
   "execution_count": null,
   "metadata": {},
   "outputs": [],
   "source": []
  },
  {
   "cell_type": "markdown",
   "metadata": {},
   "source": [
    "### Connecting Data Base"
   ]
  },
  {
   "cell_type": "code",
   "execution_count": 13,
   "metadata": {},
   "outputs": [
    {
     "ename": "NameError",
     "evalue": "name 'df2' is not defined",
     "output_type": "error",
     "traceback": [
      "\u001b[1;31m---------------------------------------------------------------------------\u001b[0m",
      "\u001b[1;31mNameError\u001b[0m                                 Traceback (most recent call last)",
      "\u001b[1;32m<ipython-input-13-2068723f1203>\u001b[0m in \u001b[0;36m<module>\u001b[1;34m\u001b[0m\n\u001b[1;32m----> 1\u001b[1;33m \u001b[0mdf2\u001b[0m\u001b[1;33m\u001b[0m\u001b[1;33m\u001b[0m\u001b[0m\n\u001b[0m",
      "\u001b[1;31mNameError\u001b[0m: name 'df2' is not defined"
     ]
    }
   ],
   "source": [
    "df2"
   ]
  },
  {
   "cell_type": "markdown",
   "metadata": {},
   "source": [
    "### SOURCE CODE TO BE ALTERED"
   ]
  },
  {
   "cell_type": "code",
   "execution_count": 14,
   "metadata": {},
   "outputs": [],
   "source": [
    "def MySQLConnect(self,query):\n",
    "        \"\"\"\n",
    "        Connects to database and extracts\n",
    "        raw tweets and any other columns we\n",
    "        need\n",
    "        Parameters:\n",
    "        ----------------\n",
    "        arg1: string: SQL query\n",
    "        Returns: pandas dataframe\n",
    "        ----------------\n",
    "        \"\"\"\n",
    "\n",
    "        try:\n",
    "            con = mysql.connector.connect(host = self.host, database = self.database, \\\n",
    "                user = self.user, password = self.password, charset = 'utf8')\n",
    "\n",
    "            if con.is_connected():\n",
    "                print(\"Successfully connected to database\")\n",
    "\n",
    "                cursor = con.cursor()\n",
    "                query = query\n",
    "                cursor.execute(query)\n",
    "\n",
    "                data = cursor.fetchall()\n",
    "                # store in dataframe\n",
    "                df = pd.DataFrame(data,columns = ['date', 'tweet'])\n",
    "                #print(df.head())\n",
    "\n",
    "\n",
    "\n",
    "        except Error as e:\n",
    "            print(e)\n",
    "\n",
    "        cursor.close()\n",
    "        con.close()\n",
    "\n",
    "        \n",
    "        return df #None"
   ]
  },
  {
   "cell_type": "code",
   "execution_count": null,
   "metadata": {},
   "outputs": [],
   "source": []
  }
 ],
 "metadata": {
  "kernelspec": {
   "display_name": "Python 3",
   "language": "python",
   "name": "python3"
  },
  "language_info": {
   "codemirror_mode": {
    "name": "ipython",
    "version": 3
   },
   "file_extension": ".py",
   "mimetype": "text/x-python",
   "name": "python",
   "nbconvert_exporter": "python",
   "pygments_lexer": "ipython3",
   "version": "3.7.3"
  }
 },
 "nbformat": 4,
 "nbformat_minor": 2
}
